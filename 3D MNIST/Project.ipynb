{
 "cells": [
  {
   "cell_type": "markdown",
   "id": "30e71cd3",
   "metadata": {},
   "source": [
    "# MNIST Project"
   ]
  },
  {
   "cell_type": "code",
   "execution_count": 394,
   "id": "3beeaa52",
   "metadata": {},
   "outputs": [],
   "source": [
    "import torch\n",
    "from torch import nn, optim\n",
    "import torchvision\n",
    "from torchvision import datasets, transforms\n",
    "import tqdm\n",
    "import cv2\n",
    "\n",
    "import numpy as np\n",
    "import pandas as pd\n",
    "import matplotlib.pyplot as plt\n"
   ]
  },
  {
   "cell_type": "markdown",
   "id": "2f028719",
   "metadata": {},
   "source": [
    "## Data 불러오기"
   ]
  },
  {
   "cell_type": "code",
   "execution_count": 395,
   "id": "20d0d5e7",
   "metadata": {},
   "outputs": [],
   "source": [
    "import scipy.ndimage\n",
    "from PIL import Image as PILImage"
   ]
  },
  {
   "cell_type": "code",
   "execution_count": 396,
   "id": "8c21162d",
   "metadata": {},
   "outputs": [],
   "source": [
    "train_data_mnist = datasets.MNIST('./datasets', train=True, download=True, transform=transforms.ToTensor())\n",
    "test_data_mnist = datasets.MNIST('./datasets', train=True, download=True, transform=transforms.ToTensor())"
   ]
  },
  {
   "cell_type": "code",
   "execution_count": 193,
   "id": "ddc73059",
   "metadata": {},
   "outputs": [],
   "source": [
    "mnist = train_data_mnist\n",
    "x_sample = []\n",
    "y_sample = []\n",
    "for i, t in enumerate(mnist):\n",
    "    X, y = t[0], t[1]\n",
    "    X = X.numpy()\n",
    "    X = (np.reshape(X, (28, 28, 1)) * 255).astype(np.uint8)\n",
    "    x_sample.append(X)\n",
    "    y_sample.append(y)"
   ]
  },
  {
   "cell_type": "code",
   "execution_count": 194,
   "id": "dda5eca5",
   "metadata": {},
   "outputs": [
    {
     "data": {
      "text/plain": [
       "numpy.ndarray"
      ]
     },
     "execution_count": 194,
     "metadata": {},
     "output_type": "execute_result"
    }
   ],
   "source": [
    "x_sample = np.array(x_sample)\n",
    "y_sample = np.array(y_sample)\n",
    "type(x_sample)"
   ]
  },
  {
   "cell_type": "code",
   "execution_count": 195,
   "id": "3ec2b727",
   "metadata": {},
   "outputs": [
    {
     "name": "stdout",
     "output_type": "stream",
     "text": [
      "60000\n",
      "(60000, 28, 28, 1)\n"
     ]
    }
   ],
   "source": [
    "print(len(x_sample))\n",
    "print(x_sample.shape)"
   ]
  },
  {
   "cell_type": "code",
   "execution_count": 196,
   "id": "cd17f977",
   "metadata": {},
   "outputs": [
    {
     "name": "stdout",
     "output_type": "stream",
     "text": [
      "60000\n",
      "(60000,)\n"
     ]
    }
   ],
   "source": [
    "print(len(y_sample))\n",
    "print(y_sample.shape)"
   ]
  },
  {
   "cell_type": "code",
   "execution_count": 708,
   "id": "61dae5dc",
   "metadata": {},
   "outputs": [],
   "source": [
    "lena = PILImage.open('photo/Road.jpeg')"
   ]
  },
  {
   "cell_type": "code",
   "execution_count": 709,
   "id": "3cdc7544",
   "metadata": {},
   "outputs": [],
   "source": [
    "def get_mnist_batch(batch_size=256, change_colors=True):\n",
    "    \n",
    "    # Select random batch (WxHxC)\n",
    "    idx = np.random.choice(x_sample.shape[0], batch_size)\n",
    "    batch_raw = x_sample[idx, :, :, 0].reshape((batch_size, 28, 28, 1))\n",
    "    \n",
    "#     print(\"y : \",y_train[idx])\n",
    "    ans = y_sample[idx]\n",
    "    # Resize (this is optional but results in a training set of larger images)\n",
    "    batch_resized = np.asarray([scipy.ndimage.zoom(image, (1, 1, 1), order=1) for image in batch_raw])\n",
    "    \n",
    "    # Extend to RGB\n",
    "    batch_rgb = np.concatenate([batch_resized, batch_resized, batch_resized], axis=3)\n",
    "    \n",
    "    # Convert the MNIST images to binary\n",
    "    batch_binary = (batch_rgb > 0.5)\n",
    "    \n",
    "    # Create a new placeholder variable for our batch\n",
    "    batch = np.zeros((batch_size, 28, 28, 3))\n",
    "    \n",
    "    for i in range(batch_size):\n",
    "        # Take a random crop of the Lena image (background)\n",
    "        x_c = np.random.randint(0, lena.size[0] - 28)\n",
    "        y_c = np.random.randint(0, lena.size[1] - 28)\n",
    "        image = lena.crop((x_c, y_c, x_c + 28, y_c + 28))\n",
    "        # Conver the image to float between 0 and 1\n",
    "        image = np.asarray(image) / 255.0\n",
    "\n",
    "        if change_colors:\n",
    "            # Change color distribution\n",
    "            for j in range(3):\n",
    "                image[:, :, j] = (image[:, :, j] + np.random.uniform(0, 1)) / 2.0\n",
    "\n",
    "        # Invert the colors at the location of the number\n",
    "        image[batch_binary[i]] = 1 - image[batch_binary[i]]\n",
    "        \n",
    "        batch[i] = image\n",
    "\n",
    "    return batch, ans"
   ]
  },
  {
   "cell_type": "code",
   "execution_count": 710,
   "id": "f983007d",
   "metadata": {},
   "outputs": [],
   "source": [
    "count = 10000\n",
    "examples, ans = get_mnist_batch(count)\n",
    "# print(ans)\n",
    "# plt.figure(figsize=(15,3))\n",
    "# for i in range(count):\n",
    "#     plt.subplot(2, count // 2, i+1)\n",
    "#     plt.imshow(examples[i])  \n",
    "#     plt.axis('off')\n",
    "# plt.tight_layout()\n",
    "# plt.show()"
   ]
  },
  {
   "cell_type": "code",
   "execution_count": 711,
   "id": "94b14b99",
   "metadata": {},
   "outputs": [
    {
     "name": "stdout",
     "output_type": "stream",
     "text": [
      "(10000, 28, 28, 3)\n",
      "(10000,)\n"
     ]
    }
   ],
   "source": [
    "print((examples.shape))\n",
    "print(ans.shape)"
   ]
  },
  {
   "cell_type": "code",
   "execution_count": 712,
   "id": "d71b2126",
   "metadata": {},
   "outputs": [],
   "source": [
    "X_test = np.append(X_test,examples, axis=0)\n",
    "y_test = np.append(y_test, ans, axis=0)"
   ]
  },
  {
   "cell_type": "code",
   "execution_count": 593,
   "id": "d87d8c64",
   "metadata": {},
   "outputs": [],
   "source": [
    "X_train = np.append(X_train, examples, axis=0)\n",
    "y_train = np.append(y_train, ans, axis=0)"
   ]
  },
  {
   "cell_type": "code",
   "execution_count": 713,
   "id": "1bcff3c9",
   "metadata": {},
   "outputs": [
    {
     "name": "stdout",
     "output_type": "stream",
     "text": [
      "(20000, 28, 28, 3)\n",
      "(20000,)\n"
     ]
    }
   ],
   "source": [
    "print(X_test.shape)\n",
    "print(y_test.shape)"
   ]
  },
  {
   "cell_type": "code",
   "execution_count": 157,
   "id": "10b0033d",
   "metadata": {},
   "outputs": [],
   "source": [
    "X_train = torch.as_tensor(examples, dtype=torch.float)\n",
    "y_train = torch.as_tensor(ans)"
   ]
  },
  {
   "cell_type": "code",
   "execution_count": 162,
   "id": "04128d88",
   "metadata": {},
   "outputs": [],
   "source": [
    "count = 20000\n",
    "X_test, y_test = get_mnist_batch(count)\n"
   ]
  },
  {
   "cell_type": "code",
   "execution_count": 164,
   "id": "3edd04b7",
   "metadata": {},
   "outputs": [],
   "source": [
    "X_test = torch.as_tensor(X_test, dtype=torch.float)\n",
    "y_test = torch.as_tensor(y_test)"
   ]
  },
  {
   "cell_type": "code",
   "execution_count": 165,
   "id": "531c13d0",
   "metadata": {},
   "outputs": [],
   "source": [
    "train_set = TensorDataset(X_train, y_train)\n",
    "test_set =  TensorDataset(X_test, y_test)"
   ]
  },
  {
   "cell_type": "code",
   "execution_count": 166,
   "id": "85ab989c",
   "metadata": {},
   "outputs": [],
   "source": [
    "train_loader = DataLoader(train_set, batch_size=128, shuffle=True)\n",
    "test_loader = DataLoader(test_set, batch_size=128)"
   ]
  },
  {
   "cell_type": "markdown",
   "id": "48c46e3d",
   "metadata": {},
   "source": [
    "## Data Augmentation"
   ]
  },
  {
   "cell_type": "code",
   "execution_count": 796,
   "id": "edf821a2",
   "metadata": {},
   "outputs": [],
   "source": [
    "def mnist_image_augment(mnist, scale=True, rotate=True, shear=True, colour=True, gaussian=True, invert=True):\n",
    "    l = len(mnist)\n",
    "\n",
    "    SC = np.random.normal(1, 0.3, size=l) # scale\n",
    "    SH = np.random.normal(0, 1, size=(l, 3, 2)) # shear\n",
    "    R = np.random.normal(0, 20, size=l) # rotate\n",
    "    C = np.random.randint(22, size=l) # colour\n",
    "    G = np.random.randint(30, size=l) # noise\n",
    "    I = np.random.randint(2, size=l) # invert\n",
    "\n",
    "    augmented = []\n",
    "\n",
    "    for i, t in enumerate(mnist):\n",
    "        X, y = t[0], t[1]\n",
    "        X = X.numpy()\n",
    "        X = (np.reshape(X, (28, 28, 1)) * 255).astype(np.uint8)\n",
    "\n",
    "        if scale or rotate:\n",
    "            if scale:\n",
    "                sc = SC[i] if SC[i] >= 0 else -SC[i]\n",
    "            else:\n",
    "                sc = 1\n",
    "            r = R[i] if rotate else 0\n",
    "\n",
    "            M = cv2.getRotationMatrix2D((14, 14), r, sc)\n",
    "            X = cv2.warpAffine(X, M, (28, 28))\n",
    "        \n",
    "        if shear:\n",
    "            pts1 = np.float32([[4, 4], [4, 24], [24, 4]])\n",
    "            pts2 = np.float32([[4+SH[i][0][0], 4+SH[i][0][1]], [4+SH[i][1][0], 24+SH[i][1][1]], [24+SH[i][2][0], 4+SH[i][2][1]]])\n",
    "            \n",
    "            M = cv2.getAffineTransform(pts1, pts2)\n",
    "            X = cv2.warpAffine(X, M, (28, 28))\n",
    "\n",
    "        if colour:\n",
    "            X = cv2.applyColorMap(X, C[i])\n",
    "        \n",
    "        if gaussian:\n",
    "            g = G[i]/100 if G[i] > 0 else - G[i]/100\n",
    "            gauss = np.random.normal(0, g**0.5, X.shape)\n",
    "            X = (X + gauss).astype(np.uint8)\n",
    "\n",
    "        if invert:\n",
    "            X = cv2.bitwise_not(X)\n",
    "\n",
    "        recover = (np.reshape(X, (3, 28, 28)) / 255).astype(np.float32)   \n",
    "        X = torch.from_numpy(recover)\n",
    "        augmented.append([X, y])\n",
    "    \n",
    "    return augmented"
   ]
  },
  {
   "cell_type": "code",
   "execution_count": 797,
   "id": "3e979adb",
   "metadata": {},
   "outputs": [],
   "source": [
    "augmented = mnist_image_augment(train_data_mnist)"
   ]
  },
  {
   "cell_type": "code",
   "execution_count": 802,
   "id": "e422c5dd",
   "metadata": {},
   "outputs": [],
   "source": [
    "# import csv\n",
    "# with open('listfile.csv', 'w', newline='') as f: \n",
    "#     writer = csv.writer(f) \n",
    "#     writer.writerow(augmented) "
   ]
  },
  {
   "cell_type": "code",
   "execution_count": 799,
   "id": "a958a9d6",
   "metadata": {},
   "outputs": [
    {
     "data": {
      "text/plain": [
       "list"
      ]
     },
     "execution_count": 799,
     "metadata": {},
     "output_type": "execute_result"
    }
   ],
   "source": [
    "type(augmented)"
   ]
  },
  {
   "cell_type": "code",
   "execution_count": 725,
   "id": "d8053ae1",
   "metadata": {},
   "outputs": [
    {
     "data": {
      "text/plain": [
       "array([36071, 14288, 17037, ...,  6231, 23375, 59930])"
      ]
     },
     "execution_count": 725,
     "metadata": {},
     "output_type": "execute_result"
    }
   ],
   "source": [
    "idx = np.random.choice(60000, 10000)\n",
    "idx"
   ]
  },
  {
   "cell_type": "code",
   "execution_count": 726,
   "id": "239c28f3",
   "metadata": {},
   "outputs": [],
   "source": [
    "test_ex = []\n",
    "test_y = []"
   ]
  },
  {
   "cell_type": "code",
   "execution_count": 675,
   "id": "8b0c3d6d",
   "metadata": {},
   "outputs": [],
   "source": [
    "ex = []\n",
    "ex_y = []"
   ]
  },
  {
   "cell_type": "code",
   "execution_count": 727,
   "id": "3e4fef51",
   "metadata": {},
   "outputs": [],
   "source": [
    "for i in idx:\n",
    "    augment = augmented[i][0].numpy()\n",
    "    augment = np.reshape(augment, (28, 28, 3))\n",
    "    ans = augmented[i][1]\n",
    "    \n",
    "    test_ex = np.append(test_ex, augment)\n",
    "    test_y = np.append(test_y, ans)"
   ]
  },
  {
   "cell_type": "code",
   "execution_count": 688,
   "id": "cea33e23",
   "metadata": {},
   "outputs": [
    {
     "data": {
      "text/plain": [
       "(10000, 28, 28, 3)"
      ]
     },
     "execution_count": 688,
     "metadata": {},
     "output_type": "execute_result"
    }
   ],
   "source": [
    "ex = ex.reshape(-1,28,28,3)\n",
    "ex.shape"
   ]
  },
  {
   "cell_type": "code",
   "execution_count": 729,
   "id": "677cb97c",
   "metadata": {},
   "outputs": [
    {
     "name": "stdout",
     "output_type": "stream",
     "text": [
      "23520000\n",
      "10000\n"
     ]
    }
   ],
   "source": [
    "print(len(test_ex))\n",
    "print(len(test_y))"
   ]
  },
  {
   "cell_type": "code",
   "execution_count": 730,
   "id": "f96a4631",
   "metadata": {},
   "outputs": [
    {
     "data": {
      "text/plain": [
       "(10000, 28, 28, 3)"
      ]
     },
     "execution_count": 730,
     "metadata": {},
     "output_type": "execute_result"
    }
   ],
   "source": [
    "test_ex = test_ex.reshape(-1,28,28,3)\n",
    "test_ex.shape"
   ]
  },
  {
   "cell_type": "code",
   "execution_count": 731,
   "id": "05716f18",
   "metadata": {},
   "outputs": [],
   "source": [
    "X_test = np.append(X_test,test_ex, axis=0)\n",
    "y_test = np.append(y_test, test_y, axis=0)"
   ]
  },
  {
   "cell_type": "code",
   "execution_count": 691,
   "id": "70c99dae",
   "metadata": {},
   "outputs": [],
   "source": [
    "X_train = np.append(X_train, ex, axis=0)\n",
    "y_train = np.append(y_train, ex_y, axis=0)"
   ]
  },
  {
   "cell_type": "code",
   "execution_count": 597,
   "id": "70be14d7",
   "metadata": {},
   "outputs": [],
   "source": [
    "test_data = mnist_image_augment(test_data_mnist)"
   ]
  },
  {
   "cell_type": "code",
   "execution_count": 598,
   "id": "98192c8c",
   "metadata": {},
   "outputs": [],
   "source": [
    "def mnist_preview(mnist, augmented, n=5):\n",
    "    for i in range(1000, 1000+n):\n",
    "        origin = train_data_mnist[i][0].numpy()\n",
    "        origin = (np.reshape(origin, (28, 28, 1)) * 255).astype(np.uint8)\n",
    "\n",
    "        augment = augmented[i][0].numpy()\n",
    "        augment = (np.reshape(augment, (28, 28, 3)) * 255).astype(np.uint8)\n",
    "    \n",
    "        plt.figure()\n",
    "        f, axarr = plt.subplots(1,2) \n",
    "\n",
    "        axarr[0].imshow(origin, cmap='gray')\n",
    "        axarr[1].imshow(augment)"
   ]
  },
  {
   "cell_type": "code",
   "execution_count": 601,
   "id": "ed932f3a",
   "metadata": {},
   "outputs": [
    {
     "data": {
      "text/plain": [
       "<Figure size 432x288 with 0 Axes>"
      ]
     },
     "metadata": {},
     "output_type": "display_data"
    },
    {
     "data": {
      "image/png": "[encoded data removed]",
      "text/plain": [
       "<Figure size 432x288 with 2 Axes>"
      ]
     },
     "metadata": {
      "needs_background": "light"
     },
     "output_type": "display_data"
    },
    {
     "data": {
      "text/plain": [
       "<Figure size 432x288 with 0 Axes>"
      ]
     },
     "metadata": {},
     "output_type": "display_data"
    },
    {
     "data": {
      "image/png": "[encoded data removed]",
      "text/plain": [
       "<Figure size 432x288 with 2 Axes>"
      ]
     },
     "metadata": {
      "needs_background": "light"
     },
     "output_type": "display_data"
    },
    {
     "data": {
      "text/plain": [
       "<Figure size 432x288 with 0 Axes>"
      ]
     },
     "metadata": {},
     "output_type": "display_data"
    },
    {
     "data": {
      "image/png": "[encoded data removed]",
      "text/plain": [
       "<Figure size 432x288 with 2 Axes>"
      ]
     },
     "metadata": {
      "needs_background": "light"
     },
     "output_type": "display_data"
    },
    {
     "data": {
      "text/plain": [
       "<Figure size 432x288 with 0 Axes>"
      ]
     },
     "metadata": {},
     "output_type": "display_data"
    },
    {
     "data": {
      "image/png": "[encoded data removed]",
      "text/plain": [
       "<Figure size 432x288 with 2 Axes>"
      ]
     },
     "metadata": {
      "needs_background": "light"
     },
     "output_type": "display_data"
    },
    {
     "data": {
      "text/plain": [
       "<Figure size 432x288 with 0 Axes>"
      ]
     },
     "metadata": {},
     "output_type": "display_data"
    },
    {
     "data": {
      "image/png": "[encoded data removed]",
      "text/plain": [
       "<Figure size 432x288 with 2 Axes>"
      ]
     },
     "metadata": {
      "needs_background": "light"
     },
     "output_type": "display_data"
    }
   ],
   "source": [
    "mnist_preview(train_data_mnist, augmented)"
   ]
  },
  {
   "cell_type": "markdown",
   "id": "f36e8caa",
   "metadata": {},
   "source": [
    "## Stanford"
   ]
  },
  {
   "cell_type": "code",
   "execution_count": 240,
   "id": "fa34fc02",
   "metadata": {},
   "outputs": [],
   "source": [
    "from torch.utils.data import Dataset\n",
    "from scipy.io import loadmat"
   ]
  },
  {
   "cell_type": "code",
   "execution_count": 239,
   "id": "e3422c65",
   "metadata": {},
   "outputs": [],
   "source": [
    "class CustomDataset(Dataset):\n",
    "    def __init__(self, data, label):\n",
    "        self.data = data\n",
    "        self.label = label\n",
    "        \n",
    "    def __len__(self):\n",
    "        return len(self.data)\n",
    "    \n",
    "    def __getitem__(self, idx):\n",
    "        return self.data[idx], self.label[idx]"
   ]
  },
  {
   "cell_type": "code",
   "execution_count": 300,
   "id": "52aa5fc1",
   "metadata": {},
   "outputs": [],
   "source": [
    "def swap_and_crop(x):\n",
    "    data = np.transpose(x,(3,2,0,1))\n",
    "    data = torch.Tensor(data)\n",
    "    data = nn.functional.interpolate(data, size=(28,28))\n",
    "    data = data.permute(0,2,3,1) \n",
    "    return data\n",
    "\n",
    "def label_to_tensor(y):\n",
    "    data = torch.Tensor(y)\n",
    "    data = torch.squeeze(data)\n",
    "    data[data == 10] = 0\n",
    "    return data.type(torch.long)"
   ]
  },
  {
   "cell_type": "code",
   "execution_count": 301,
   "id": "28ae27ee",
   "metadata": {},
   "outputs": [],
   "source": [
    "train_file = loadmat('Project/train_32x32.mat')\n",
    "test_file = loadmat('Project/test_32x32.mat')"
   ]
  },
  {
   "cell_type": "code",
   "execution_count": 302,
   "id": "bdba612f",
   "metadata": {},
   "outputs": [],
   "source": [
    "svhn_train_x = swap_and_crop(train_file['X'])\n",
    "svhn_train_y = label_to_tensor(train_file['y'])\n",
    "\n",
    "svhn_test_x = swap_and_crop(test_file['X'])\n",
    "svhn_test_y = label_to_tensor(test_file['y'])"
   ]
  },
  {
   "cell_type": "code",
   "execution_count": 307,
   "id": "88721a31",
   "metadata": {},
   "outputs": [],
   "source": [
    "svhn_train_x = svhn_train_x.numpy()\n",
    "svhn_train_y = svhn_train_y.numpy()"
   ]
  },
  {
   "cell_type": "code",
   "execution_count": 735,
   "id": "827a13a7",
   "metadata": {},
   "outputs": [],
   "source": [
    "svhn_test_x = svhn_test_x.numpy()\n",
    "svhn_test_y = svhn_test_y.numpy()"
   ]
  },
  {
   "cell_type": "code",
   "execution_count": 736,
   "id": "04007249",
   "metadata": {},
   "outputs": [
    {
     "data": {
      "text/plain": [
       "(26032, 28, 28, 3)"
      ]
     },
     "execution_count": 736,
     "metadata": {},
     "output_type": "execute_result"
    }
   ],
   "source": [
    "svhn_test_x.shape"
   ]
  },
  {
   "cell_type": "code",
   "execution_count": 303,
   "id": "bc27e7c0",
   "metadata": {},
   "outputs": [],
   "source": [
    "# train_data_SVHN = CustomDataset(svhn_train_x, svhn_train_y)\n",
    "# test_data_SVHN = CustomDataset(svhn_test_x, svhn_test_y)"
   ]
  },
  {
   "cell_type": "code",
   "execution_count": 737,
   "id": "d1ddd761",
   "metadata": {},
   "outputs": [],
   "source": [
    "def choice(batch_size):\n",
    "    idx = np.random.choice(svhn_test_x.shape[0], batch_size)\n",
    "    \n",
    "    x = svhn_test_x[idx, :, :, :]\n",
    "    \n",
    "    #     print(\"y : \",y_train[idx])\n",
    "    y = svhn_test_y[idx]\n",
    "    \n",
    "    return x, y"
   ]
  },
  {
   "cell_type": "code",
   "execution_count": 738,
   "id": "d8af1991",
   "metadata": {},
   "outputs": [],
   "source": [
    "x_data, y_data = choice(20000)"
   ]
  },
  {
   "cell_type": "code",
   "execution_count": 739,
   "id": "e4090799",
   "metadata": {},
   "outputs": [
    {
     "data": {
      "text/plain": [
       "(20000, 28, 28, 3)"
      ]
     },
     "execution_count": 739,
     "metadata": {},
     "output_type": "execute_result"
    }
   ],
   "source": [
    "x_data.shape"
   ]
  },
  {
   "cell_type": "code",
   "execution_count": 740,
   "id": "3b7831a2",
   "metadata": {},
   "outputs": [
    {
     "data": {
      "text/plain": [
       "(20000,)"
      ]
     },
     "execution_count": 740,
     "metadata": {},
     "output_type": "execute_result"
    }
   ],
   "source": [
    "y_data.shape"
   ]
  },
  {
   "cell_type": "code",
   "execution_count": 700,
   "id": "8b5ee960",
   "metadata": {},
   "outputs": [],
   "source": [
    "X_train = np.append(X_train, x_data, axis=0)\n",
    "\n",
    "y_train = np.append(y_train, y_data, axis=0)"
   ]
  },
  {
   "cell_type": "code",
   "execution_count": 741,
   "id": "e1e2eb80",
   "metadata": {},
   "outputs": [],
   "source": [
    "X_test = np.append(X_test, x_data, axis=0)\n",
    "\n",
    "y_test = np.append(y_test, y_data, axis=0)"
   ]
  },
  {
   "cell_type": "code",
   "execution_count": 742,
   "id": "a20a950f",
   "metadata": {},
   "outputs": [
    {
     "name": "stdout",
     "output_type": "stream",
     "text": [
      "(50000, 28, 28, 3)\n"
     ]
    }
   ],
   "source": [
    "print(X_test.shape)"
   ]
  },
  {
   "cell_type": "code",
   "execution_count": 743,
   "id": "bcb11135",
   "metadata": {},
   "outputs": [
    {
     "name": "stdout",
     "output_type": "stream",
     "text": [
      "(50000,)\n"
     ]
    }
   ],
   "source": [
    "print(y_test.shape)"
   ]
  },
  {
   "cell_type": "markdown",
   "id": "7ae0ebc2",
   "metadata": {},
   "source": [
    "## Train & Test Data"
   ]
  },
  {
   "cell_type": "code",
   "execution_count": 560,
   "id": "f31770a6",
   "metadata": {},
   "outputs": [],
   "source": [
    "X_train = np.empty((0,28,28,3), dtype=float)\n",
    "y_train = np.empty(0, dtype=int)\n",
    "X_test = np.empty((0,28,28,3), dtype=float)\n",
    "y_test = np.empty(0, dtype=int)"
   ]
  },
  {
   "cell_type": "code",
   "execution_count": 744,
   "id": "e6fa6ab1",
   "metadata": {},
   "outputs": [
    {
     "name": "stdout",
     "output_type": "stream",
     "text": [
      "(100000, 28, 28, 3)\n",
      "(100000,)\n",
      "(50000, 28, 28, 3)\n",
      "(50000,)\n"
     ]
    }
   ],
   "source": [
    "print(X_train.shape)\n",
    "print(y_train.shape)\n",
    "print(X_test.shape)\n",
    "print(y_test.shape)"
   ]
  },
  {
   "cell_type": "code",
   "execution_count": 767,
   "id": "5b31f8c1",
   "metadata": {},
   "outputs": [],
   "source": [
    "X_train = torch.as_tensor(X_train, dtype=torch.float)\n",
    "y_train = torch.as_tensor(y_train, dtype = torch.long)\n",
    "X_test = torch.as_tensor(X_test, dtype=torch.float)\n",
    "y_test = torch.as_tensor(y_test, dtype = torch.long)"
   ]
  },
  {
   "cell_type": "code",
   "execution_count": 768,
   "id": "3d1dc67d",
   "metadata": {},
   "outputs": [
    {
     "data": {
      "text/plain": [
       "torch.int64"
      ]
     },
     "execution_count": 768,
     "metadata": {},
     "output_type": "execute_result"
    }
   ],
   "source": [
    "y_train.dtype"
   ]
  },
  {
   "cell_type": "code",
   "execution_count": 769,
   "id": "23f197cd",
   "metadata": {},
   "outputs": [],
   "source": [
    "train_set = TensorDataset(X_train, y_train)\n",
    "test_set =  TensorDataset(X_test, y_test)"
   ]
  },
  {
   "cell_type": "code",
   "execution_count": 770,
   "id": "9f8ccce8",
   "metadata": {},
   "outputs": [],
   "source": [
    "learning_rate = 1e-3\n",
    "batch_size = 128"
   ]
  },
  {
   "cell_type": "code",
   "execution_count": 771,
   "id": "6a92abb5",
   "metadata": {},
   "outputs": [],
   "source": [
    "train_loader = DataLoader(train_set, batch_size=batch_size, shuffle=True)\n",
    "test_loader = DataLoader(test_set, batch_size=batch_size)"
   ]
  },
  {
   "cell_type": "markdown",
   "id": "414070fc",
   "metadata": {},
   "source": [
    "## Model"
   ]
  },
  {
   "cell_type": "code",
   "execution_count": 772,
   "id": "b7226507",
   "metadata": {},
   "outputs": [
    {
     "data": {
      "text/plain": [
       "device(type='cpu')"
      ]
     },
     "execution_count": 772,
     "metadata": {},
     "output_type": "execute_result"
    }
   ],
   "source": [
    "device = torch.device(\"cuda:0\" if torch.cuda.is_available() else \"cpu\")\n",
    "device"
   ]
  },
  {
   "cell_type": "code",
   "execution_count": 773,
   "id": "9afd4999",
   "metadata": {},
   "outputs": [],
   "source": [
    "def layer_block(in_f, out_f, *args, **kwargs):\n",
    "    return nn.Sequential(\n",
    "        nn.Conv2d(in_f, out_f, *args, **kwargs),\n",
    "        nn.BatchNorm2d(out_f, eps=1e-05, momentum=0.1),\n",
    "        nn.ReLU()\n",
    "    )"
   ]
  },
  {
   "cell_type": "code",
   "execution_count": 781,
   "id": "9c0ed2f6",
   "metadata": {},
   "outputs": [],
   "source": [
    "class CNN(torch.nn.Module):\n",
    "    def __init__(self):\n",
    "        super(self).__init__()\n",
    "        self.keep_prob = 0.4\n",
    "\n",
    "        channels_1 = 6\n",
    "        channels_2 = 16\n",
    "\n",
    "        self.layer1 = nn.Sequential(\n",
    "            layer_block(3,32,kernel_size=5,padding=1),\n",
    "            layer_block(32,32,kernel_size=5,padding=1),\n",
    "            nn.MaxPool2d(kernel_size=2, stride=2),\n",
    "            nn.Dropout(p=0.25)\n",
    "        )\n",
    "    \n",
    "    \n",
    "        self.layer2 = nn.Sequential(\n",
    "            layer_block(32,64,kernel_size=3,padding=1),\n",
    "            layer_block(64,64,kernel_size=3,padding=1),\n",
    "            nn.MaxPool2d(kernel_size=2, stride=2),\n",
    "            nn.Dropout(p=0.25)\n",
    "        )\n",
    "        \n",
    "        \n",
    "        self.fc3 = nn.Linear(6*6*64,256, bias=True)\n",
    "        torch.nn.init.xavier_uniform_(self.fc3.weight)\n",
    "        self.layer3 = nn.Sequential(\n",
    "            self.fc3, \n",
    "            nn.ReLU(),\n",
    "            nn.Dropout(p= 0.5))\n",
    "        \n",
    "        self.fc4 = nn.Linear(256,128,bias=True)\n",
    "        nn.init.xavier_uniform_(self.fc4.weight)\n",
    "        self.layer4 = nn.Sequential(\n",
    "            self.fc4,\n",
    "            nn.ReLU(),\n",
    "            nn.Dropout(p=0.5))\n",
    "        \n",
    "        self.fc5 = nn.Linear(128,10,bias=True)\n",
    "        nn.init.xavier_uniform_(self.fc5.weight)\n",
    "        \n",
    "    \n",
    "    def forward(self, x):\n",
    "        x = x.permute(0,3,1,2)\n",
    "        out = self.layer1(x)\n",
    "        out = self.layer2(out)\n",
    "        out = out.view(out.size(0), -1)\n",
    "        \n",
    "        out = self.layer3(out)\n",
    "        out = self.layer4(out)\n",
    "        \n",
    "        out = self.fc5(out)\n",
    "        return out\n",
    "        "
   ]
  },
  {
   "cell_type": "code",
   "execution_count": 782,
   "id": "717ee863",
   "metadata": {},
   "outputs": [],
   "source": [
    "model = CNN()\n",
    "criterion = nn.CrossEntropyLoss()\n",
    "optimizer = torch.optim.Adam(model.parameters(), lr=learning_rate)"
   ]
  },
  {
   "cell_type": "code",
   "execution_count": 787,
   "id": "0dedffbb",
   "metadata": {},
   "outputs": [],
   "source": [
    "history = []\n",
    "costs = []\n",
    "total_batch = len(train_loader)"
   ]
  },
  {
   "cell_type": "markdown",
   "id": "9eb087e4",
   "metadata": {},
   "source": [
    "## Training"
   ]
  },
  {
   "cell_type": "code",
   "execution_count": 788,
   "id": "9be85370",
   "metadata": {
    "scrolled": true
   },
   "outputs": [
    {
     "name": "stderr",
     "output_type": "stream",
     "text": [
      "100%|██████████| 782/782 [08:24<00:00,  1.55it/s]\n",
      "  0%|          | 1/391 [00:00<01:03,  6.14it/s]"
     ]
    },
    {
     "name": "stdout",
     "output_type": "stream",
     "text": [
      "[Epoch:    1] cost = 2.1529853343963623\n",
      "TEST\n"
     ]
    },
    {
     "name": "stderr",
     "output_type": "stream",
     "text": [
      "100%|██████████| 391/391 [01:06<00:00,  5.87it/s]\n",
      "  0%|          | 0/782 [00:00<?, ?it/s]"
     ]
    },
    {
     "name": "stdout",
     "output_type": "stream",
     "text": [
      "Accuracy: 0.27900001406669617\n"
     ]
    },
    {
     "name": "stderr",
     "output_type": "stream",
     "text": [
      "100%|██████████| 782/782 [08:34<00:00,  1.52it/s]\n",
      "  0%|          | 1/391 [00:00<01:16,  5.12it/s]"
     ]
    },
    {
     "name": "stdout",
     "output_type": "stream",
     "text": [
      "[Epoch:    2] cost = 1.9890811443328857\n",
      "TEST\n"
     ]
    },
    {
     "name": "stderr",
     "output_type": "stream",
     "text": [
      "100%|██████████| 391/391 [01:17<00:00,  5.03it/s]\n",
      "  0%|          | 0/782 [00:00<?, ?it/s]"
     ]
    },
    {
     "name": "stdout",
     "output_type": "stream",
     "text": [
      "Accuracy: 0.3101400136947632\n"
     ]
    },
    {
     "name": "stderr",
     "output_type": "stream",
     "text": [
      "100%|██████████| 782/782 [09:07<00:00,  1.43it/s]\n",
      "  0%|          | 1/391 [00:00<01:09,  5.61it/s]"
     ]
    },
    {
     "name": "stdout",
     "output_type": "stream",
     "text": [
      "[Epoch:    3] cost = 1.9116027355194092\n",
      "TEST\n"
     ]
    },
    {
     "name": "stderr",
     "output_type": "stream",
     "text": [
      "100%|██████████| 391/391 [01:13<00:00,  5.30it/s]\n",
      "  0%|          | 0/782 [00:00<?, ?it/s]"
     ]
    },
    {
     "name": "stdout",
     "output_type": "stream",
     "text": [
      "Accuracy: 0.36910000443458557\n"
     ]
    },
    {
     "name": "stderr",
     "output_type": "stream",
     "text": [
      "100%|██████████| 782/782 [08:56<00:00,  1.46it/s]\n",
      "  0%|          | 1/391 [00:00<01:07,  5.81it/s]"
     ]
    },
    {
     "name": "stdout",
     "output_type": "stream",
     "text": [
      "[Epoch:    4] cost = 1.787636160850525\n",
      "TEST\n"
     ]
    },
    {
     "name": "stderr",
     "output_type": "stream",
     "text": [
      "100%|██████████| 391/391 [01:12<00:00,  5.42it/s]\n",
      "  0%|          | 0/782 [00:00<?, ?it/s]"
     ]
    },
    {
     "name": "stdout",
     "output_type": "stream",
     "text": [
      "Accuracy: 0.38947999477386475\n"
     ]
    },
    {
     "name": "stderr",
     "output_type": "stream",
     "text": [
      "100%|██████████| 782/782 [08:51<00:00,  1.47it/s]\n",
      "  0%|          | 1/391 [00:00<01:06,  5.88it/s]"
     ]
    },
    {
     "name": "stdout",
     "output_type": "stream",
     "text": [
      "[Epoch:    5] cost = 1.6822404861450195\n",
      "TEST\n"
     ]
    },
    {
     "name": "stderr",
     "output_type": "stream",
     "text": [
      "100%|██████████| 391/391 [01:11<00:00,  5.48it/s]\n",
      "  0%|          | 0/782 [00:00<?, ?it/s]"
     ]
    },
    {
     "name": "stdout",
     "output_type": "stream",
     "text": [
      "Accuracy: 0.414000004529953\n"
     ]
    },
    {
     "name": "stderr",
     "output_type": "stream",
     "text": [
      "100%|██████████| 782/782 [08:48<00:00,  1.48it/s]\n",
      "  0%|          | 1/391 [00:00<01:04,  6.01it/s]"
     ]
    },
    {
     "name": "stdout",
     "output_type": "stream",
     "text": [
      "[Epoch:    6] cost = 1.6239413022994995\n",
      "TEST\n"
     ]
    },
    {
     "name": "stderr",
     "output_type": "stream",
     "text": [
      "100%|██████████| 391/391 [01:11<00:00,  5.45it/s]\n",
      "  0%|          | 0/782 [00:00<?, ?it/s]"
     ]
    },
    {
     "name": "stdout",
     "output_type": "stream",
     "text": [
      "Accuracy: 0.42357999086380005\n"
     ]
    },
    {
     "name": "stderr",
     "output_type": "stream",
     "text": [
      "100%|██████████| 782/782 [08:40<00:00,  1.50it/s]\n",
      "  0%|          | 1/391 [00:00<01:02,  6.26it/s]"
     ]
    },
    {
     "name": "stdout",
     "output_type": "stream",
     "text": [
      "[Epoch:    7] cost = 1.5927108526229858\n",
      "TEST\n"
     ]
    },
    {
     "name": "stderr",
     "output_type": "stream",
     "text": [
      "100%|██████████| 391/391 [01:09<00:00,  5.65it/s]\n",
      "  0%|          | 0/782 [00:00<?, ?it/s]"
     ]
    },
    {
     "name": "stdout",
     "output_type": "stream",
     "text": [
      "Accuracy: 0.4235599935054779\n"
     ]
    },
    {
     "name": "stderr",
     "output_type": "stream",
     "text": [
      "100%|██████████| 782/782 [08:26<00:00,  1.55it/s]\n",
      "  0%|          | 1/391 [00:00<01:03,  6.10it/s]"
     ]
    },
    {
     "name": "stdout",
     "output_type": "stream",
     "text": [
      "[Epoch:    8] cost = 1.5680880546569824\n",
      "TEST\n"
     ]
    },
    {
     "name": "stderr",
     "output_type": "stream",
     "text": [
      "100%|██████████| 391/391 [01:04<00:00,  6.02it/s]\n",
      "  0%|          | 0/782 [00:00<?, ?it/s]"
     ]
    },
    {
     "name": "stdout",
     "output_type": "stream",
     "text": [
      "Accuracy: 0.4267599880695343\n"
     ]
    },
    {
     "name": "stderr",
     "output_type": "stream",
     "text": [
      "100%|██████████| 782/782 [08:25<00:00,  1.55it/s]\n",
      "  0%|          | 1/391 [00:00<01:03,  6.10it/s]"
     ]
    },
    {
     "name": "stdout",
     "output_type": "stream",
     "text": [
      "[Epoch:    9] cost = 1.5527098178863525\n",
      "TEST\n"
     ]
    },
    {
     "name": "stderr",
     "output_type": "stream",
     "text": [
      "100%|██████████| 391/391 [01:09<00:00,  5.64it/s]\n",
      "  0%|          | 0/782 [00:00<?, ?it/s]"
     ]
    },
    {
     "name": "stdout",
     "output_type": "stream",
     "text": [
      "Accuracy: 0.42917999625205994\n"
     ]
    },
    {
     "name": "stderr",
     "output_type": "stream",
     "text": [
      "100%|██████████| 782/782 [08:33<00:00,  1.52it/s]\n",
      "  0%|          | 1/391 [00:00<01:02,  6.27it/s]"
     ]
    },
    {
     "name": "stdout",
     "output_type": "stream",
     "text": [
      "[Epoch:   10] cost = 1.5389047861099243\n",
      "TEST\n"
     ]
    },
    {
     "name": "stderr",
     "output_type": "stream",
     "text": [
      "100%|██████████| 391/391 [01:10<00:00,  5.58it/s]\n",
      "  0%|          | 0/782 [00:00<?, ?it/s]"
     ]
    },
    {
     "name": "stdout",
     "output_type": "stream",
     "text": [
      "Accuracy: 0.42245998978614807\n"
     ]
    },
    {
     "name": "stderr",
     "output_type": "stream",
     "text": [
      "100%|██████████| 782/782 [09:02<00:00,  1.44it/s]\n",
      "  0%|          | 1/391 [00:00<01:11,  5.43it/s]"
     ]
    },
    {
     "name": "stdout",
     "output_type": "stream",
     "text": [
      "[Epoch:   11] cost = 1.5292370319366455\n",
      "TEST\n"
     ]
    },
    {
     "name": "stderr",
     "output_type": "stream",
     "text": [
      "100%|██████████| 391/391 [01:11<00:00,  5.49it/s]\n",
      "  0%|          | 0/782 [00:00<?, ?it/s]"
     ]
    },
    {
     "name": "stdout",
     "output_type": "stream",
     "text": [
      "Accuracy: 0.43171998858451843\n"
     ]
    },
    {
     "name": "stderr",
     "output_type": "stream",
     "text": [
      "100%|██████████| 782/782 [08:55<00:00,  1.46it/s]\n",
      "  0%|          | 1/391 [00:00<01:08,  5.68it/s]"
     ]
    },
    {
     "name": "stdout",
     "output_type": "stream",
     "text": [
      "[Epoch:   12] cost = 1.524212121963501\n",
      "TEST\n"
     ]
    },
    {
     "name": "stderr",
     "output_type": "stream",
     "text": [
      "100%|██████████| 391/391 [01:13<00:00,  5.35it/s]\n",
      "  0%|          | 0/782 [00:00<?, ?it/s]"
     ]
    },
    {
     "name": "stdout",
     "output_type": "stream",
     "text": [
      "Accuracy: 0.43233999609947205\n"
     ]
    },
    {
     "name": "stderr",
     "output_type": "stream",
     "text": [
      "100%|██████████| 782/782 [09:12<00:00,  1.42it/s]\n",
      "  0%|          | 1/391 [00:00<01:06,  5.86it/s]"
     ]
    },
    {
     "name": "stdout",
     "output_type": "stream",
     "text": [
      "[Epoch:   13] cost = 1.5134129524230957\n",
      "TEST\n"
     ]
    },
    {
     "name": "stderr",
     "output_type": "stream",
     "text": [
      "100%|██████████| 391/391 [01:16<00:00,  5.08it/s]\n",
      "  0%|          | 0/782 [00:00<?, ?it/s]"
     ]
    },
    {
     "name": "stdout",
     "output_type": "stream",
     "text": [
      "Accuracy: 0.43320000171661377\n"
     ]
    },
    {
     "name": "stderr",
     "output_type": "stream",
     "text": [
      "100%|██████████| 782/782 [09:54<00:00,  1.31it/s]\n",
      "  0%|          | 1/391 [00:00<01:05,  5.97it/s]"
     ]
    },
    {
     "name": "stdout",
     "output_type": "stream",
     "text": [
      "[Epoch:   14] cost = 1.5086474418640137\n",
      "TEST\n"
     ]
    },
    {
     "name": "stderr",
     "output_type": "stream",
     "text": [
      "100%|██████████| 391/391 [01:14<00:00,  5.23it/s]\n",
      "  0%|          | 0/782 [00:00<?, ?it/s]"
     ]
    },
    {
     "name": "stdout",
     "output_type": "stream",
     "text": [
      "Accuracy: 0.43064001202583313\n"
     ]
    },
    {
     "name": "stderr",
     "output_type": "stream",
     "text": [
      "100%|██████████| 782/782 [09:33<00:00,  1.36it/s]\n",
      "  0%|          | 1/391 [00:00<01:07,  5.76it/s]"
     ]
    },
    {
     "name": "stdout",
     "output_type": "stream",
     "text": [
      "[Epoch:   15] cost = 1.5057748556137085\n",
      "TEST\n"
     ]
    },
    {
     "name": "stderr",
     "output_type": "stream",
     "text": [
      "100%|██████████| 391/391 [01:14<00:00,  5.22it/s]"
     ]
    },
    {
     "name": "stdout",
     "output_type": "stream",
     "text": [
      "Accuracy: 0.42621999979019165\n"
     ]
    },
    {
     "name": "stderr",
     "output_type": "stream",
     "text": [
      "\n"
     ]
    }
   ],
   "source": [
    "for epoch in range(15):\n",
    "    model.train()\n",
    "    cost = 0\n",
    "#     n_batches = 0\n",
    "    for X, Y in tqdm.tqdm(train_loader):\n",
    "        optimizer.zero_grad()\n",
    "        y_hat = model(X)\n",
    "    \n",
    "        Y = Y.squeeze_()\n",
    "#         Y = Y.long()\n",
    "        loss = criterion(y_hat, Y)\n",
    "        loss.backward()\n",
    "        optimizer.step()\n",
    "        \n",
    "        cost += loss / total_batch\n",
    "#         cost += loss.item()\n",
    "#         n_batches += 1\n",
    "        \n",
    "#     cost /= n_batches\n",
    "    print('[Epoch: {:>4}] cost = {:>9}'.format(epoch+1, cost))\n",
    "    costs.append(cost)\n",
    "    print(\"TEST\")\n",
    "    result = test(test_loader, model)\n",
    "    history.append(result)"
   ]
  },
  {
   "cell_type": "markdown",
   "id": "5b2a2b95",
   "metadata": {},
   "source": [
    "## Test"
   ]
  },
  {
   "cell_type": "code",
   "execution_count": 779,
   "id": "51795fc0",
   "metadata": {},
   "outputs": [],
   "source": [
    "def test(data_loader, model):\n",
    "    model.eval()\n",
    "    n_predict = 0\n",
    "    n_correct = 0\n",
    "    with torch.no_grad():\n",
    "        for X,Y in tqdm.tqdm(data_loader):\n",
    "            y_hat = model(X)\n",
    "            y_hat.argmax()\n",
    "            \n",
    "            _, predicted = torch.max(y_hat,1)\n",
    "            \n",
    "            n_predict += len(predicted)\n",
    "            n_correct += (Y==predicted).sum()\n",
    "            \n",
    "    accuracy = n_correct/n_predict\n",
    "    print(f\"Accuracy: {accuracy}\")\n",
    "    return accuracy"
   ]
  },
  {
   "cell_type": "code",
   "execution_count": 789,
   "id": "f6fec000",
   "metadata": {},
   "outputs": [
    {
     "name": "stderr",
     "output_type": "stream",
     "text": [
      "100%|██████████| 391/391 [01:01<00:00,  6.38it/s]"
     ]
    },
    {
     "name": "stdout",
     "output_type": "stream",
     "text": [
      "Accuracy: 0.42621999979019165\n"
     ]
    },
    {
     "name": "stderr",
     "output_type": "stream",
     "text": [
      "\n"
     ]
    },
    {
     "data": {
      "text/plain": [
       "tensor(0.4262)"
      ]
     },
     "execution_count": 789,
     "metadata": {},
     "output_type": "execute_result"
    }
   ],
   "source": [
    "test(test_loader, model)"
   ]
  },
  {
   "cell_type": "code",
   "execution_count": 807,
   "id": "dc1cf1d4",
   "metadata": {},
   "outputs": [
    {
     "name": "stdout",
     "output_type": "stream",
     "text": [
      "----------------------------------------------------------------\n",
      "        Layer (type)               Output Shape         Param #\n",
      "================================================================\n",
      "            Conv2d-1           [-1, 32, 26, 26]           2,432\n",
      "       BatchNorm2d-2           [-1, 32, 26, 26]              64\n",
      "              ReLU-3           [-1, 32, 26, 26]               0\n",
      "            Conv2d-4           [-1, 32, 24, 24]          25,632\n",
      "       BatchNorm2d-5           [-1, 32, 24, 24]              64\n",
      "              ReLU-6           [-1, 32, 24, 24]               0\n",
      "         MaxPool2d-7           [-1, 32, 12, 12]               0\n",
      "           Dropout-8           [-1, 32, 12, 12]               0\n",
      "            Conv2d-9           [-1, 64, 12, 12]          18,496\n",
      "      BatchNorm2d-10           [-1, 64, 12, 12]             128\n",
      "             ReLU-11           [-1, 64, 12, 12]               0\n",
      "           Conv2d-12           [-1, 64, 12, 12]          36,928\n",
      "      BatchNorm2d-13           [-1, 64, 12, 12]             128\n",
      "             ReLU-14           [-1, 64, 12, 12]               0\n",
      "        MaxPool2d-15             [-1, 64, 6, 6]               0\n",
      "          Dropout-16             [-1, 64, 6, 6]               0\n",
      "           Linear-17                  [-1, 256]         590,080\n",
      "           Linear-18                  [-1, 256]         590,080\n",
      "             ReLU-19                  [-1, 256]               0\n",
      "          Dropout-20                  [-1, 256]               0\n",
      "           Linear-21                  [-1, 128]          32,896\n",
      "           Linear-22                  [-1, 128]          32,896\n",
      "             ReLU-23                  [-1, 128]               0\n",
      "          Dropout-24                  [-1, 128]               0\n",
      "           Linear-25                   [-1, 10]           1,290\n",
      "================================================================\n",
      "Total params: 1,331,114\n",
      "Trainable params: 1,331,114\n",
      "Non-trainable params: 0\n",
      "----------------------------------------------------------------\n",
      "Input size (MB): 0.01\n",
      "Forward/backward pass size (MB): 1.46\n",
      "Params size (MB): 5.08\n",
      "Estimated Total Size (MB): 6.54\n",
      "----------------------------------------------------------------\n"
     ]
    }
   ],
   "source": [
    "import torchsummary\n",
    "torchsummary.summary(model, (28,28,3),device='cpu')\n"
   ]
  },
  {
   "cell_type": "code",
   "execution_count": null,
   "id": "d8362cd1",
   "metadata": {},
   "outputs": [],
   "source": []
  },
  {
   "cell_type": "code",
   "execution_count": null,
   "id": "0ad5a243",
   "metadata": {},
   "outputs": [],
   "source": [
    "class Net(torch.nn.Module):\n",
    "    def __init__(self):\n",
    "        super(Net, self).__init__()\n",
    "        \n",
    "        self.conv1 = nn.Sequential(\n",
    "            nn.Conv2d(in_channels=1, out_channels=64, kernel_size=3, padding=1),\n",
    "            nn.BatchNorm2d(num_features=64, eps=1e-05, momentum=0.1),\n",
    "            nn.Conv2d(in_channels=64, out_channels=64, kernel_size=3, padding=1),\n",
    "            nn.BatchNorm2d(num_features=64, eps=1e-05, momentum=0.1),\n",
    "            nn.ReLU(),\n",
    "\n",
    "            nn.Conv2d(in_channels=64, out_channels=64, kernel_size=3, padding=1),\n",
    "            nn.BatchNorm2d(num_features=64, eps=1e-05, momentum=0.1),\n",
    "            nn.Conv2d(in_channels=64, out_channels=64, kernel_size=3, padding=1),\n",
    "            nn.BatchNorm2d(num_features=64, eps=1e-05, momentum=0.1),\n",
    "            nn.ReLU(),\n",
    "\n",
    "            nn.MaxPool2d(kernel_size=2, stride=2),\n",
    "            nn.Dropout2d(0.25),\n",
    "        )\n",
    "       \n",
    "        self.conv2 = nn.Sequential(\n",
    "            nn.Conv2d(in_channels=64, out_channels=64, kernel_size=3, padding=1),\n",
    "            nn.BatchNorm2d(num_features=64, eps=1e-05, momentum=0.1),\n",
    "            nn.ReLU(),\n",
    "\n",
    "            nn.Conv2d(in_channels=64, out_channels=64, kernel_size=3, padding=1),\n",
    "            nn.BatchNorm2d(num_features=64, eps=1e-05, momentum=0.1),\n",
    "            nn.ReLU(),\n",
    "\n",
    "            nn.MaxPool2d(kernel_size=2, stride=2),\n",
    "            nn.Dropout2d(0.25),\n",
    "        )\n",
    "        \n",
    "        self.fc1 = nn.Sequential(\n",
    "            nn.Dropout(0.25),\n",
    "            nn.Linear(7 * 7 * 64, 256),\n",
    "            nn.BatchNorm1d(num_features=256, eps=1e-05, momentum=0.1),\n",
    "            nn.ReLU(),\n",
    "            nn.Dropout(0.25),\n",
    "        )\n",
    "        \n",
    "        self.fc2 = nn.Sequential(\n",
    "            nn.Dropout(0.25),\n",
    "            nn.Linear(256, 10),\n",
    "        )\n",
    "    \n",
    "    def forward(self, x):\n",
    "        x = self.conv1(x)\n",
    "        x = self.conv2(x)\n",
    "        \n",
    "        # Flatten the 3 last dimensions (channels, width, height) to one\n",
    "        x = x.view(x.size(0), x.size(1) * x.size(2) * x.size(3))\n",
    "        \n",
    "        x = self.fc1(x)\n",
    "        x = self.fc2(x)\n",
    "        \n",
    "        return x\n",
    "\n",
    "# move the net to gpu if available\n",
    "net = Net().to(device)"
   ]
  },
  {
   "cell_type": "code",
   "execution_count": 8,
   "id": "16f9a879",
   "metadata": {},
   "outputs": [],
   "source": [
    "# train_loader = torch.utils.data.DataLoader(train_set, batch_size = batch_size, shuffle=True)\n",
    "# dev_loader = torch.utils.data.DataLoader(val_set, batch_size = batch_size)\n",
    "# test_loader = torch.utils.data.DataLoader(test_data_mnist, batch_size = batch_size)"
   ]
  },
  {
   "cell_type": "code",
   "execution_count": null,
   "id": "356d8908",
   "metadata": {},
   "outputs": [],
   "source": [
    "#keras\n",
    "model = Sequential()\n",
    "\n",
    "model.add(Conv2D(filters = 32, kernel_size = (5,5),padding = 'Same', \n",
    "                 activation ='relu', input_shape = (28,28,1)))\n",
    "model.add(Conv2D(filters = 32, kernel_size = (5,5),padding = 'Same', \n",
    "                 activation ='relu'))\n",
    "model.add(MaxPool2D(pool_size=(2,2)))\n",
    "model.add(Dropout(0.25))\n",
    "\n",
    "\n",
    "model.add(Conv2D(filters = 64, kernel_size = (3,3),padding = 'Same', \n",
    "                 activation ='relu'))\n",
    "model.add(Conv2D(filters = 64, kernel_size = (3,3),padding = 'Same', \n",
    "                 activation ='relu'))\n",
    "model.add(MaxPool2D(pool_size=(2,2), strides=(2,2)))\n",
    "model.add(Dropout(0.25))\n",
    "\n",
    "\n",
    "model.add(Flatten())\n",
    "model.add(Dense(256, activation = \"relu\"))\n",
    "model.add(Dropout(0.5))\n",
    "model.add(Dense(10, activation = \"softmax\"))"
   ]
  },
  {
   "cell_type": "code",
   "execution_count": null,
   "id": "47261618",
   "metadata": {},
   "outputs": [],
   "source": [
    "\n",
    "model = Sequential()\n",
    "#\n",
    "model.add(Conv2D(filters = 8, kernel_size = (5,5),padding = 'Same', \n",
    "                 activation ='relu', input_shape = (28,28,1)))\n",
    "model.add(MaxPool2D(pool_size=(2,2)))\n",
    "model.add(Dropout(0.25))\n",
    "#\n",
    "model.add(Conv2D(filters = 16, kernel_size = (3,3),padding = 'Same', \n",
    "                 activation ='relu'))\n",
    "model.add(MaxPool2D(pool_size=(2,2), strides=(2,2)))\n",
    "model.add(Dropout(0.25))\n",
    "# fully connected\n",
    "model.add(Flatten())\n",
    "model.add(Dense(256, activation = \"relu\"))\n",
    "model.add(Dropout(0.5))\n",
    "model.add(Dense(10, activation = \"softmax\"))"
   ]
  },
  {
   "cell_type": "code",
   "execution_count": null,
   "id": "1e3629b7",
   "metadata": {},
   "outputs": [],
   "source": [
    "class Net(torch.nn.Module):\n",
    "    def __init__(self):\n",
    "        super(Net, self).__init__()\n",
    "        \n",
    "        self.conv1 = nn.Sequential(\n",
    "            nn.Conv2d(in_channels=1, out_channels=64, kernel_size=3, padding=1),\n",
    "            nn.BatchNorm2d(num_features=64, eps=1e-05, momentum=0.1),\n",
    "            nn.Conv2d(in_channels=64, out_channels=64, kernel_size=3, padding=1),\n",
    "            nn.BatchNorm2d(num_features=64, eps=1e-05, momentum=0.1),\n",
    "            nn.ReLU(),\n",
    "\n",
    "            nn.Conv2d(in_channels=64, out_channels=64, kernel_size=3, padding=1),\n",
    "            nn.BatchNorm2d(num_features=64, eps=1e-05, momentum=0.1),\n",
    "            nn.Conv2d(in_channels=64, out_channels=64, kernel_size=3, padding=1),\n",
    "            nn.BatchNorm2d(num_features=64, eps=1e-05, momentum=0.1),\n",
    "            nn.ReLU(),\n",
    "\n",
    "            nn.MaxPool2d(kernel_size=2, stride=2),\n",
    "            nn.Dropout2d(0.25),\n",
    "        )\n",
    "       \n",
    "        self.conv2 = nn.Sequential(\n",
    "            nn.Conv2d(in_channels=64, out_channels=64, kernel_size=3, padding=1),\n",
    "            nn.BatchNorm2d(num_features=64, eps=1e-05, momentum=0.1),\n",
    "            nn.ReLU(),\n",
    "\n",
    "            nn.Conv2d(in_channels=64, out_channels=64, kernel_size=3, padding=1),\n",
    "            nn.BatchNorm2d(num_features=64, eps=1e-05, momentum=0.1),\n",
    "            nn.ReLU(),\n",
    "\n",
    "            nn.MaxPool2d(kernel_size=2, stride=2),\n",
    "            nn.Dropout2d(0.25),\n",
    "        )\n",
    "        \n",
    "        self.fc1 = nn.Sequential(\n",
    "            nn.Dropout(0.25),\n",
    "            nn.Linear(7 * 7 * 64, 256),\n",
    "            nn.BatchNorm1d(num_features=256, eps=1e-05, momentum=0.1),\n",
    "            nn.ReLU(),\n",
    "            nn.Dropout(0.25),\n",
    "        )\n",
    "        \n",
    "        self.fc2 = nn.Sequential(\n",
    "            nn.Dropout(0.25),\n",
    "            nn.Linear(256, 10),\n",
    "        )\n",
    "    \n",
    "    def forward(self, x):\n",
    "        x = self.conv1(x)\n",
    "        x = self.conv2(x)\n",
    "        \n",
    "        # Flatten the 3 last dimensions (channels, width, height) to one\n",
    "        x = x.view(x.size(0), x.size(1) * x.size(2) * x.size(3))\n",
    "        \n",
    "        x = self.fc1(x)\n",
    "        x = self.fc2(x)\n",
    "        \n",
    "        return x\n",
    "\n",
    "# move the net to gpu if available\n",
    "net = Net().to(device)"
   ]
  },
  {
   "cell_type": "code",
   "execution_count": 793,
   "id": "6e7d36f5",
   "metadata": {},
   "outputs": [],
   "source": [
    "torch.save(model.state_dict(), 'model.pt')"
   ]
  },
  {
   "cell_type": "code",
   "execution_count": null,
   "id": "3651b7c6",
   "metadata": {},
   "outputs": [],
   "source": []
  }
 ],
 "metadata": {
  "kernelspec": {
   "display_name": "Python 3",
   "language": "python",
   "name": "python3"
  },
  "language_info": {
   "codemirror_mode": {
    "name": "ipython",
    "version": 3
   },
   "file_extension": ".py",
   "mimetype": "text/x-python",
   "name": "python",
   "nbconvert_exporter": "python",
   "pygments_lexer": "ipython3",
   "version": "3.8.2"
  }
 },
 "nbformat": 4,
 "nbformat_minor": 5
}
